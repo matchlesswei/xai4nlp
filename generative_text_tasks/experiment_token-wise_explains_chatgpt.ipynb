{
 "cells": [
  {
   "cell_type": "markdown",
   "source": [
    "This notebook experimented with the idea of changing tokens to examine the distance of the new output from the original one. Synonyms were selected using word2vec, and the similarity between outputs was calculated using cosine similarity based on embeddings from sentence transformers. In the next step, it would be useful to consider replacing tokens with antonyms and to investigate the influence of multiple tokens on the generated text.\n",
    "\n",
    "There was a considerable amount of manual work involved in this notebook, due to the limited time and absence of API calls. By incorporating API calls, the steps can be automated more easily."
   ],
   "metadata": {
    "collapsed": false
   }
  },
  {
   "cell_type": "code",
   "execution_count": 1,
   "metadata": {
    "collapsed": true,
    "ExecuteTime": {
     "end_time": "2023-07-10T16:31:54.877466Z",
     "start_time": "2023-07-10T16:31:52.870756Z"
    }
   },
   "outputs": [],
   "source": [
    "from sentence_transformers import SentenceTransformer, util\n",
    "from collections import defaultdict\n",
    "import matplotlib.pyplot as plt\n",
    "import matplotlib.cm as cm"
   ]
  },
  {
   "cell_type": "code",
   "execution_count": 2,
   "outputs": [
    {
     "data": {
      "text/plain": "Downloading (…)001fa/.gitattributes:   0%|          | 0.00/690 [00:00<?, ?B/s]",
      "application/vnd.jupyter.widget-view+json": {
       "version_major": 2,
       "version_minor": 0,
       "model_id": "d7015b650e8e423984f972dc50cff060"
      }
     },
     "metadata": {},
     "output_type": "display_data"
    },
    {
     "data": {
      "text/plain": "Downloading (…)_Pooling/config.json:   0%|          | 0.00/190 [00:00<?, ?B/s]",
      "application/vnd.jupyter.widget-view+json": {
       "version_major": 2,
       "version_minor": 0,
       "model_id": "ea1007b813234ed0b0bfbf118d94eb0a"
      }
     },
     "metadata": {},
     "output_type": "display_data"
    },
    {
     "data": {
      "text/plain": "Downloading (…)3bbb8001fa/README.md:   0%|          | 0.00/3.69k [00:00<?, ?B/s]",
      "application/vnd.jupyter.widget-view+json": {
       "version_major": 2,
       "version_minor": 0,
       "model_id": "b90062696fed4011a0f534424bda27fe"
      }
     },
     "metadata": {},
     "output_type": "display_data"
    },
    {
     "data": {
      "text/plain": "Downloading (…)bb8001fa/config.json:   0%|          | 0.00/629 [00:00<?, ?B/s]",
      "application/vnd.jupyter.widget-view+json": {
       "version_major": 2,
       "version_minor": 0,
       "model_id": "feb224d1b24a4076aa55206d4d1aa0c8"
      }
     },
     "metadata": {},
     "output_type": "display_data"
    },
    {
     "data": {
      "text/plain": "Downloading (…)ce_transformers.json:   0%|          | 0.00/122 [00:00<?, ?B/s]",
      "application/vnd.jupyter.widget-view+json": {
       "version_major": 2,
       "version_minor": 0,
       "model_id": "8cbb0d35840e4f2aa01a149bb8ed68ad"
      }
     },
     "metadata": {},
     "output_type": "display_data"
    },
    {
     "data": {
      "text/plain": "Downloading pytorch_model.bin:   0%|          | 0.00/90.9M [00:00<?, ?B/s]",
      "application/vnd.jupyter.widget-view+json": {
       "version_major": 2,
       "version_minor": 0,
       "model_id": "0d2df2a39fe64f76909cde15b5f615a3"
      }
     },
     "metadata": {},
     "output_type": "display_data"
    },
    {
     "data": {
      "text/plain": "Downloading (…)nce_bert_config.json:   0%|          | 0.00/53.0 [00:00<?, ?B/s]",
      "application/vnd.jupyter.widget-view+json": {
       "version_major": 2,
       "version_minor": 0,
       "model_id": "3098afcc837a4dfd872aac70c6fedaad"
      }
     },
     "metadata": {},
     "output_type": "display_data"
    },
    {
     "data": {
      "text/plain": "Downloading (…)cial_tokens_map.json:   0%|          | 0.00/112 [00:00<?, ?B/s]",
      "application/vnd.jupyter.widget-view+json": {
       "version_major": 2,
       "version_minor": 0,
       "model_id": "7c5002d220ee4899887749438ba7526d"
      }
     },
     "metadata": {},
     "output_type": "display_data"
    },
    {
     "data": {
      "text/plain": "Downloading (…)001fa/tokenizer.json:   0%|          | 0.00/466k [00:00<?, ?B/s]",
      "application/vnd.jupyter.widget-view+json": {
       "version_major": 2,
       "version_minor": 0,
       "model_id": "f29a390b3fcf4d768eed879d26905bb9"
      }
     },
     "metadata": {},
     "output_type": "display_data"
    },
    {
     "data": {
      "text/plain": "Downloading (…)okenizer_config.json:   0%|          | 0.00/314 [00:00<?, ?B/s]",
      "application/vnd.jupyter.widget-view+json": {
       "version_major": 2,
       "version_minor": 0,
       "model_id": "dd09e565d4da479a81dea6a836801ceb"
      }
     },
     "metadata": {},
     "output_type": "display_data"
    },
    {
     "data": {
      "text/plain": "Downloading (…)3bbb8001fa/vocab.txt:   0%|          | 0.00/232k [00:00<?, ?B/s]",
      "application/vnd.jupyter.widget-view+json": {
       "version_major": 2,
       "version_minor": 0,
       "model_id": "0d087c874aec4f92aaccd9003c536b67"
      }
     },
     "metadata": {},
     "output_type": "display_data"
    },
    {
     "data": {
      "text/plain": "Downloading (…)b8001fa/modules.json:   0%|          | 0.00/229 [00:00<?, ?B/s]",
      "application/vnd.jupyter.widget-view+json": {
       "version_major": 2,
       "version_minor": 0,
       "model_id": "3723ba15ac6a49be93d05aa96dff7bc5"
      }
     },
     "metadata": {},
     "output_type": "display_data"
    }
   ],
   "source": [
    "model = SentenceTransformer('paraphrase-MiniLM-L6-v2')"
   ],
   "metadata": {
    "collapsed": false,
    "ExecuteTime": {
     "end_time": "2023-07-10T16:32:02.151680Z",
     "start_time": "2023-07-10T16:31:54.878879Z"
    }
   }
  },
  {
   "cell_type": "code",
   "execution_count": 3,
   "outputs": [],
   "source": [
    "def calculate_similarity_emb_vs_text(model, embedding, text):\n",
    "    embedding_compared = model.encode(text)\n",
    "    cosine_scores = util.pytorch_cos_sim(embedding, embedding_compared)\n",
    "    return cosine_scores.item()\n",
    "\n",
    "def calculate_similarity(model, embedding, texts):\n",
    "    index = 0\n",
    "    sum = 0\n",
    "    for text in texts:\n",
    "        sum += calculate_similarity_emb_vs_text(model, embedding, text)\n",
    "        index += 1\n",
    "    return sum/index"
   ],
   "metadata": {
    "collapsed": false,
    "ExecuteTime": {
     "end_time": "2023-07-10T16:32:02.156470Z",
     "start_time": "2023-07-10T16:32:02.153407Z"
    }
   }
  },
  {
   "cell_type": "code",
   "execution_count": 4,
   "outputs": [],
   "source": [
    "Question=\"Use three sentences to answer: What is Allianz?\"\n",
    "ChatGPT_original_answer=\"Allianz is a multinational financial services company based in Germany. It offers a range of insurance and asset management products and services to individuals and businesses worldwide. Allianz is one of the largest insurance companies in the world by revenue and has a strong presence in Europe, North America, and Asia.\"\n",
    "embedding_origin = model.encode(ChatGPT_original_answer)"
   ],
   "metadata": {
    "collapsed": false,
    "ExecuteTime": {
     "end_time": "2023-07-10T16:32:02.173218Z",
     "start_time": "2023-07-10T16:32:02.156243Z"
    }
   }
  },
  {
   "cell_type": "code",
   "execution_count": 5,
   "outputs": [],
   "source": [
    "weight_dict = defaultdict(float)"
   ],
   "metadata": {
    "collapsed": false,
    "ExecuteTime": {
     "end_time": "2023-07-10T16:32:02.174146Z",
     "start_time": "2023-07-10T16:32:02.173422Z"
    }
   }
  },
  {
   "cell_type": "code",
   "execution_count": 6,
   "outputs": [],
   "source": [
    "#get chatgpt answer\n",
    "#remove stop words, split sentences, tokenize\n",
    "#get the closet words for each word in each sentence as a dictionary using like word2vec\n",
    "\n",
    "# I used the following code in my local to get the neighbors, but not recommand to run here, the downloading would take long.\n",
    "# import gensim.downloader as api\n",
    "# wv = api.load('word2vec-google-news-300')\n",
    "# neighbors = wv.most_similar('multinational', topn=20))\n",
    "\n",
    "# an alternative is to use wordnet\n",
    "# import nltk\n",
    "# nltk.download('wordnet')\n",
    "# from nltk.corpus import wordnet\n",
    "# syn = list()\n",
    "# ant = list()\n",
    "# for synset in wordnet.synsets(\"headquarter\"):\n",
    "#    for lemma in synset.lemmas():\n",
    "#       syn.append(lemma.name())\n",
    "#       if lemma.antonyms():\n",
    "#         ant.append(lemma.antonyms()[0].name())\n",
    "# print('Synonyms: ' + str(syn))\n",
    "# print('Antonyms: ' + str(ant))\n",
    "\n",
    "# cleaning neighbors (edited distance can be used here) and keep top 3\n",
    "# put into a dictionary\n",
    "\n",
    "nearest_neighbor={\"multinational\": [\"transnational\", \"international\", \"global\"],\n",
    "                  \"financial\":[\"banking\", \"investment\", \"liqudity\"],\n",
    "                  \"services\": [\"provider\"],\n",
    "                  \"company\": [\"firm\", \"subsidiary\", \"corporation\"],\n",
    "                  \"based\": [\"headquartered\", \"held\",\"located\"],\n",
    "                  \"Germany\": [\"europe\", \"sweden\", \"switzerland\"]}"
   ],
   "metadata": {
    "collapsed": false,
    "ExecuteTime": {
     "end_time": "2023-07-10T16:32:02.179875Z",
     "start_time": "2023-07-10T16:32:02.175710Z"
    }
   }
  },
  {
   "cell_type": "code",
   "execution_count": 7,
   "outputs": [],
   "source": [
    "#multinational\n",
    "input_transnational = \"Use three sentences to answer: What is Allianz? Allianz is a transnational\"\n",
    "output_transnational = \"Allianz is a transnational financial corporation headquartered in Germany, providing a diverse range of insurance and asset management services to individuals, businesses, and institutional clients globally. With operations in over 70 countries, Allianz is one of the world's leading insurance companies, serving over 100 million customers worldwide. Allianz has a reputation for financial stability, innovation, and responsible business practices.\"\n",
    "input_international = \"Use three sentences to answer: What is Allianz? Allianz is a international\"\n",
    "output_international = \"Allianz is a international financial services company headquartered in Munich, Germany, providing insurance, asset management, and other financial products and services to individuals, businesses, and institutions worldwide. With a history dating back to the 19th century, Allianz has grown to become one of the largest financial services companies in the world, with operations in more than 70 countries and a workforce of over 150,000 employees. Allianz is known for its strong financial performance, customer service, and commitment to sustainability and social responsibility.\"\n",
    "input_global = \"Use three sentences to answer: What is Allianz? Allianz is a global\"\n",
    "output_global = \"Allianz is a global financial services firm headquartered in Germany, offering a wide range of insurance, asset management, and other financial products and services to individuals, businesses, and institutions worldwide. With a presence in over 70 countries and a workforce of more than 150,000 employees, Allianz is one of the largest insurance companies in the world, serving millions of customers. Allianz is committed to innovation, digital transformation, and sustainability, with a focus on creating long-term value for its stakeholders.\"\n",
    "\n",
    "texts_multinational = [output_transnational, output_international, output_global]\n",
    "weight_dict[\"multinational\"] = 1 - calculate_similarity(model, embedding_origin, texts_multinational)"
   ],
   "metadata": {
    "collapsed": false,
    "ExecuteTime": {
     "end_time": "2023-07-10T16:32:03.718500Z",
     "start_time": "2023-07-10T16:32:03.660578Z"
    }
   }
  },
  {
   "cell_type": "code",
   "execution_count": 8,
   "outputs": [],
   "source": [
    "#financial\n",
    "input_banking = \"Use three sentences to answer: What is Allianz? Allianz is a multinational banking\"\n",
    "output_banking = \"Allianz is a multinational banking and financial services corporation based in Germany, specializing in insurance, asset management, and investment banking products and services. With operations in over 70 countries and a strong focus on innovation and digital transformation, Allianz is one of the largest financial services companies in the world. Allianz is known for its strong financial performance, customer-centric approach, and commitment to sustainable business practices.\"\n",
    "input_investment = \"Use three sentences to answer: What is Allianz? Allianz is a multinational investment\"\n",
    "output_investment = \"Allianz is a multinational investment firm headquartered in Germany, specializing in insurance, asset management, and other financial services for individuals, businesses, and institutional clients worldwide. With a history dating back over 125 years, Allianz is one of the world's leading investment firms, managing over €2 trillion in assets under management. Allianz is known for its financial strength, innovation, and commitment to sustainability and responsible investing.\"\n",
    "input_liqudity = \"Use three sentences to answer: What is Allianz? Allianz is a multinational liqudity\"\n",
    "output_liqudity = \"provider and asset manager, headquartered in Germany, offering a wide range of financial products and services such as insurance, investment management, and banking to individuals, businesses, and institutional clients worldwide. With a presence in over 70 countries and over 150,000 employees, Allianz is one of the largest financial services companies in the world, with a focus on long-term value creation and sustainable business practices. Allianz is committed to driving innovation and digital transformation in the financial industry, and has a reputation for financial strength and stability.\"\n",
    "\n",
    "texts_financial = [output_banking, output_investment, output_liqudity]\n",
    "weight_dict[\"financial\"] = 1 - calculate_similarity(model, embedding_origin, texts_financial)"
   ],
   "metadata": {
    "collapsed": false,
    "ExecuteTime": {
     "end_time": "2023-07-10T16:32:04.467596Z",
     "start_time": "2023-07-10T16:32:04.409843Z"
    }
   }
  },
  {
   "cell_type": "code",
   "execution_count": 9,
   "outputs": [],
   "source": [
    "#services\n",
    "input_provider = \"Use three sentences to answer: What is Allianz? Allianz is a multinational financial provider\"\n",
    "output_provider = \"Allianz is a multinational financial provider headquartered in Germany, offering insurance, asset management, and other financial products and services to individuals, businesses, and institutional clients worldwide. With a presence in over 70 countries, Allianz is one of the largest financial services companies in the world, serving millions of customers. Allianz is committed to sustainability, innovation, and responsible business practices, and has a reputation for financial strength and stability.\"\n",
    "\n",
    "texts_provider = [output_provider]\n",
    "weight_dict[\"services\"] = 1 - calculate_similarity(model, embedding_origin, texts_provider)"
   ],
   "metadata": {
    "collapsed": false,
    "ExecuteTime": {
     "end_time": "2023-07-10T16:32:05.137622Z",
     "start_time": "2023-07-10T16:32:05.114821Z"
    }
   }
  },
  {
   "cell_type": "code",
   "execution_count": 10,
   "outputs": [],
   "source": [
    "#company\n",
    "input_firm = \"Use three sentences to answer: What is Allianz? Allianz is a multinational financial services firm\"\n",
    "output_firm = \"with headquarters in Munich, Germany, offering a diverse range of financial products and services such as insurance, asset management, and investment banking to clients globally. Allianz has operations in over 70 countries and is one of the largest financial services firms in the world, with a reputation for financial strength, innovation, and sustainability. Allianz is committed to serving its customers evolving financial needs and contributing to long-term economic growth while also promoting social and environmental responsibility.\"\n",
    "input_subsidiary = \"Use three sentences to answer: What is Allianz? Allianz is a multinational financial services subsidiary\"\n",
    "output_subsidiary = \"Allianz is a multinational financial services subsidiary of the Allianz Group, a German financial services conglomerate. Allianz offers a wide range of financial products and services, including insurance, asset management, and banking, to individuals, businesses, and institutional clients worldwide. With operations in over 70 countries, Allianz is one of the largest financial services companies in the world and is known for its financial strength, innovation, and commitment to sustainability.\"\n",
    "input_corporation = \"Use three sentences to answer: What is Allianz? Allianz is a multinational financial services corporation\"\n",
    "output_corporation = \"Allianz is a multinational financial services corporation headquartered in Munich, Germany, offering a broad range of financial products and services to individuals, businesses, and institutional clients worldwide. These offerings include insurance, asset management, and investment products and services. Allianz is committed to sustainability and responsible business practices, and has a reputation for financial strength, innovation, and customer service excellence.\"\n",
    "\n",
    "texts_company = [output_firm, output_subsidiary, output_corporation]\n",
    "weight_dict[\"company\"] = 1 - calculate_similarity(model, embedding_origin, texts_company)"
   ],
   "metadata": {
    "collapsed": false,
    "ExecuteTime": {
     "end_time": "2023-07-10T16:32:05.901929Z",
     "start_time": "2023-07-10T16:32:05.851773Z"
    }
   }
  },
  {
   "cell_type": "code",
   "execution_count": 11,
   "outputs": [],
   "source": [
    "#based\n",
    "input_headquartered = \"Use three sentences to answer: What is Allianz? Allianz is a multinational financial services company headquartered\"\n",
    "output_headquartered = \"Allianz is a multinational financial services company headquartered in Munich, Germany, providing a wide range of financial solutions, including insurance, asset management, and banking services, to individuals, businesses, and institutional clients worldwide. With operations in over 70 countries, Allianz is one of the largest financial services companies in the world, with a focus on innovation, customer service, and sustainable business practices. Allianz is committed to creating long-term value for its stakeholders, including its customers, employees, and shareholders, and contributing to social and economic progress.\"\n",
    "input_founded = \"Use three sentences to answer: What is Allianz? Allianz is a multinational financial services company founded\"\n",
    "output_founded = \"Allianz is a multinational financial services company founded in Germany in 1890, providing a broad range of financial products and services such as insurance, asset management, and investment banking to individuals, businesses, and institutional clients worldwide. Allianz is committed to promoting sustainable business practices and environmental stewardship, and has a strong reputation for financial strength, innovation, and customer service excellence. With a presence in over 70 countries, Allianz is one of the world's largest financial services companies, serving millions of customers and contributing to long-term economic growth.\"\n",
    "input_located = \"Use three sentences to answer: What is Allianz? Allianz is a multinational financial services company located\"\n",
    "output_located = \"Allianz is a multinational financial services company located in Munich, Germany, offering a broad range of financial products and services such as insurance, asset management, and investment banking to clients worldwide. Allianz has a reputation for financial strength, innovation, and customer service excellence and is committed to sustainability and responsible business practices. With operations in over 70 countries, Allianz is one of the largest financial services companies in the world, serving millions of customers and contributing to long-term economic growth.\"\n",
    "\n",
    "texts_based = [output_headquartered, output_founded, output_located]\n",
    "weight_dict[\"based\"] = 1 - calculate_similarity(model, embedding_origin, texts_based)"
   ],
   "metadata": {
    "collapsed": false,
    "ExecuteTime": {
     "end_time": "2023-07-10T16:32:06.559478Z",
     "start_time": "2023-07-10T16:32:06.502964Z"
    }
   }
  },
  {
   "cell_type": "code",
   "execution_count": 12,
   "outputs": [],
   "source": [
    "#Germany\n",
    "input_europe = \"Use three sentences to answer: Allianz is a multinational financial services company based in europe\"\n",
    "output_europe = \"Allianz is a multinational financial services company based in europe with headquarters in Munich, Germany, Allianz is a leading multinational financial services provider operating across Europe and other regions globally. The company offers a range of financial products and services such as insurance, asset management, and investment banking to clients across diverse sectors. Allianz is renowned for its financial strength, innovation, and commitment to sustainability, making it one of the most trusted and respected companies in the financial services industry.\"\n",
    "input_sweden = \"Use three sentences to answer: Allianz is a multinational financial services company based in sweden\"\n",
    "output_sweden = \"I'm sorry, but that is not correct. Allianz is a multinational financial services company headquartered in Munich, Germany. It operates in over 70 countries worldwide, but Sweden is not the location of its headquarters. However, Allianz does have a presence in Sweden and offers financial products and services such as insurance, asset management, and banking to clients in the country.\"\n",
    "input_switzerland = \"Use three sentences to answer: Allianz is a multinational financial services company based in switzerland\"\n",
    "output_switzerland = \"I'm sorry, but that is not correct. Allianz is a multinational financial services company headquartered in Munich, Germany. It operates in over 70 countries worldwide, but Switzerland is not the location of its headquarters. However, Allianz does have a presence in Switzerland and offers financial products and services such as insurance, asset management, and banking to clients in the country.\"\n",
    "\n",
    "texts_germany = [output_europe, output_sweden, output_switzerland]\n",
    "weight_dict[\"germany\"] = 1 - calculate_similarity(model, embedding_origin, texts_germany)"
   ],
   "metadata": {
    "collapsed": false,
    "ExecuteTime": {
     "end_time": "2023-07-10T16:32:07.233757Z",
     "start_time": "2023-07-10T16:32:07.182930Z"
    }
   }
  },
  {
   "cell_type": "code",
   "execution_count": 13,
   "outputs": [
    {
     "data": {
      "text/plain": "defaultdict(float,\n            {'multinational': 0.052650272846221924,\n             'financial': 0.09142875671386719,\n             'services': 0.05805099010467529,\n             'company': 0.09363832076390588,\n             'based': 0.07653830448786414,\n             'germany': 0.10140099128087365})"
     },
     "execution_count": 13,
     "metadata": {},
     "output_type": "execute_result"
    }
   ],
   "source": [
    "weight_dict"
   ],
   "metadata": {
    "collapsed": false,
    "ExecuteTime": {
     "end_time": "2023-07-10T16:32:07.944795Z",
     "start_time": "2023-07-10T16:32:07.939863Z"
    }
   }
  },
  {
   "cell_type": "code",
   "execution_count": 14,
   "outputs": [
    {
     "data": {
      "text/plain": "<Figure size 640x480 with 1 Axes>",
      "image/png": "[encoded data removed]"
     },
     "metadata": {},
     "output_type": "display_data"
    }
   ],
   "source": [
    "import numpy as np\n",
    "from matplotlib.colors import Normalize\n",
    "\n",
    "items = list(weight_dict.items())\n",
    "items.sort(key=lambda x: x[1])\n",
    "sorted_weight_dict = dict(items)\n",
    "\n",
    "keys = list(sorted_weight_dict.keys())\n",
    "values = list(sorted_weight_dict.values())\n",
    "\n",
    "cmap = plt.colormaps['viridis']\n",
    "colors = [cmap(value) for value in values]\n",
    "\n",
    "plt.barh(keys, values, color=colors)\n",
    "plt.xlabel('Importance')\n",
    "plt.ylabel('Tokens')\n",
    "plt.title('Importance of Former Tokens for Influencing Next Tokens in Text Generation: What is Allianz?')\n",
    "plt.show()"
   ],
   "metadata": {
    "collapsed": false,
    "ExecuteTime": {
     "end_time": "2023-07-10T16:32:09.085130Z",
     "start_time": "2023-07-10T16:32:08.947674Z"
    }
   }
  },
  {
   "cell_type": "markdown",
   "source": [
    "If the output generated by ChatGPT by replacing tokens with synonyms has a low similarity to the original output, this may indicate that particular tokens are important for generating the subsequent text. Therefore, we need to assign higher weights to these tokens. So for this example, we can see **Allianz is a financial company based in Germany**.\n",
    "\n",
    "However, this experiment does not take antonyms into consideration. We may also consider how to use both synonyms and antonyms to explain the generation results."
   ],
   "metadata": {
    "collapsed": false
   }
  },
  {
   "cell_type": "code",
   "execution_count": null,
   "outputs": [],
   "source": [],
   "metadata": {
    "collapsed": false
   }
  }
 ],
 "metadata": {
  "kernelspec": {
   "display_name": "Python 3",
   "language": "python",
   "name": "python3"
  },
  "language_info": {
   "codemirror_mode": {
    "name": "ipython",
    "version": 2
   },
   "file_extension": ".py",
   "mimetype": "text/x-python",
   "name": "python",
   "nbconvert_exporter": "python",
   "pygments_lexer": "ipython2",
   "version": "2.7.6"
  }
 },
 "nbformat": 4,
 "nbformat_minor": 0
}

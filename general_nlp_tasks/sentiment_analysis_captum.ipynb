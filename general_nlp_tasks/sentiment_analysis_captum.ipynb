{
 "cells": [
  {
   "cell_type": "code",
   "execution_count": 4,
   "metadata": {
    "ExecuteTime": {
     "end_time": "2023-07-10T16:37:49.645884Z",
     "start_time": "2023-07-10T16:37:49.641793Z"
    }
   },
   "outputs": [],
   "source": [
    "import torch\n",
    "import pandas as pd\n",
    "import numpy as np\n",
    "\n",
    "from torch import tensor\n",
    "from transformers import pipeline\n",
    "from transformers.pipelines import TextClassificationPipeline\n",
    "from captum.attr import LayerIntegratedGradients\n",
    "from captum.attr import visualization as viz"
   ]
  },
  {
   "cell_type": "code",
   "execution_count": 2,
   "metadata": {
    "ExecuteTime": {
     "end_time": "2023-07-10T16:37:20.318984Z",
     "start_time": "2023-07-10T16:37:20.317799Z"
    }
   },
   "outputs": [],
   "source": [
    "class ExplainableTransformerPipeline():\n",
    "    \"\"\"Wrapper for Captum framework usage with Huggingface Pipeline\"\"\"\n",
    "    \n",
    "    def __init__(self, name:str, pipeline: TextClassificationPipeline, device: str):\n",
    "        self.__name = name\n",
    "        self.__pipeline = pipeline\n",
    "        self.__device = device\n",
    "    \n",
    "    def forward_func(self, inputs: tensor, position = 0):\n",
    "        \"\"\"\n",
    "            Wrapper around prediction method of pipeline\n",
    "        \"\"\"\n",
    "        pred = self.__pipeline.model(inputs,\n",
    "                       attention_mask=torch.ones_like(inputs))\n",
    "        return pred[position]\n",
    "\n",
    "    def visualize(self, inputs: list, attributes: list, prediction: list, text: str, truth: str, delta: tensor):\n",
    "       \"\"\"\n",
    "            Visualize the weights of inputs\n",
    "       \"\"\" \n",
    "       all_tokens = self.__pipeline.tokenizer.convert_ids_to_tokens(inputs.detach().numpy()[0])\n",
    "\n",
    "       attr_sum = attributes.sum(-1) \n",
    "       attr = attr_sum / torch.norm(attr_sum)\n",
    "       df_weights = pd.Series(np.round(attr.numpy()[0], 2), index = all_tokens)\n",
    "\n",
    "       score_vis = viz.VisualizationDataRecord(\n",
    "                        word_attributions = attr[0],\n",
    "                        pred_prob = prediction[0]['score'],\n",
    "                        pred_class = prediction[0]['label'],\n",
    "                        true_class = truth,\n",
    "                        attr_class = text,\n",
    "                        attr_score = attr[0].sum(),       \n",
    "                        raw_input_ids = all_tokens,\n",
    "                        convergence_score = delta)\n",
    "       viz.visualize_text([score_vis])\n",
    "       \n",
    "       ax = df_weights.plot.barh(figsize=(10,3))\n",
    "       ax.bar_label(ax.containers[0])\n",
    "                      \n",
    "    def explain(self, text: str, truth: str):\n",
    "        \"\"\"\n",
    "            Main entry method. Passes text through series of transformations and through the model. \n",
    "            Calls visualization method.\n",
    "        \"\"\"\n",
    "        prediction = self.__pipeline.predict(text)\n",
    "        inputs = self.generate_inputs(text)\n",
    "        baseline = self.generate_baseline(sequence_len = inputs.shape[1])\n",
    "        \n",
    "        lig = LayerIntegratedGradients(self.forward_func, getattr(self.__pipeline.model, 'distilbert').embeddings)\n",
    "        \n",
    "        attributes, delta = lig.attribute(inputs=inputs,\n",
    "                                  baselines=baseline,\n",
    "                                  target = self.__pipeline.model.config.label2id[prediction[0]['label']], \n",
    "                                  return_convergence_delta = True)\n",
    "        self.visualize(inputs, attributes, prediction, text, truth, delta)\n",
    "        \n",
    "    def generate_inputs(self, text: str) -> tensor:\n",
    "        \"\"\"\n",
    "            Convenience method for generation of input ids as list of torch tensors\n",
    "        \"\"\"\n",
    "        return torch.tensor(self.__pipeline.tokenizer.encode(text, add_special_tokens=False), device = self.__device).unsqueeze(0)\n",
    "    \n",
    "    def generate_baseline(self, sequence_len: int) -> tensor:\n",
    "        \"\"\"\n",
    "            Convenience method for generation of baseline vector as list of torch tensors\n",
    "        \"\"\"        \n",
    "        return torch.tensor([self.__pipeline.tokenizer.cls_token_id] + [self.__pipeline.tokenizer.pad_token_id] * (sequence_len - 2) + [self.__pipeline.tokenizer.sep_token_id], device = self.__device).unsqueeze(0)\n",
    "    \n"
   ]
  },
  {
   "cell_type": "code",
   "execution_count": 3,
   "metadata": {
    "ExecuteTime": {
     "end_time": "2023-07-10T16:37:21.733186Z",
     "start_time": "2023-07-10T16:37:20.319978Z"
    }
   },
   "outputs": [
    {
     "data": {
      "text/plain": "<IPython.core.display.HTML object>",
      "text/html": "<table width: 100%><div style=\"border-top: 1px solid; margin-top: 5px;             padding-top: 5px; display: inline-block\"><b>Legend: </b><span style=\"display: inline-block; width: 10px; height: 10px;                 border: 1px solid; background-color:                 hsl(0, 75%, 60%)\"></span> Negative  <span style=\"display: inline-block; width: 10px; height: 10px;                 border: 1px solid; background-color:                 hsl(0, 75%, 100%)\"></span> Neutral  <span style=\"display: inline-block; width: 10px; height: 10px;                 border: 1px solid; background-color:                 hsl(120, 75%, 50%)\"></span> Positive  </div><tr><th>True Label</th><th>Predicted Label</th><th>Attribution Label</th><th>Attribution Score</th><th>Word Importance</th><tr><td><text style=\"padding-right:2em\"><b>POSITIVE</b></text></td><td><text style=\"padding-right:2em\"><b>POSITIVE (1.00)</b></text></td><td><text style=\"padding-right:2em\"><b>I am very excited about this project</b></text></td><td><text style=\"padding-right:2em\"><b>1.21</b></text></td><td><mark style=\"background-color: hsl(120, 75%, 92%); opacity:1.0;                     line-height:1.75\"><font color=\"black\"> i                    </font></mark><mark style=\"background-color: hsl(120, 75%, 86%); opacity:1.0;                     line-height:1.75\"><font color=\"black\"> am                    </font></mark><mark style=\"background-color: hsl(120, 75%, 97%); opacity:1.0;                     line-height:1.75\"><font color=\"black\"> very                    </font></mark><mark style=\"background-color: hsl(120, 75%, 56%); opacity:1.0;                     line-height:1.75\"><font color=\"black\"> excited                    </font></mark><mark style=\"background-color: hsl(0, 75%, 95%); opacity:1.0;                     line-height:1.75\"><font color=\"black\"> about                    </font></mark><mark style=\"background-color: hsl(120, 75%, 93%); opacity:1.0;                     line-height:1.75\"><font color=\"black\"> this                    </font></mark><mark style=\"background-color: hsl(0, 75%, 91%); opacity:1.0;                     line-height:1.75\"><font color=\"black\"> project                    </font></mark></td><tr></table>"
     },
     "metadata": {},
     "output_type": "display_data"
    },
    {
     "data": {
      "text/plain": "<Figure size 1000x300 with 1 Axes>",
      "image/png": "[encoded data removed]"
     },
     "metadata": {},
     "output_type": "display_data"
    }
   ],
   "source": [
    "device = \"cpu\"\n",
    "sample = \"I am very excited about this project\"\n",
    "truth = \"POSITIVE\"\n",
    "pipe = pipeline(model=\"distilbert-base-uncased-finetuned-sst-2-english\")\n",
    "exp_model = ExplainableTransformerPipeline(name=\"distilbert\", pipeline=pipe, device=device)\n",
    "exp_model.explain(sample, truth)"
   ]
  }
 ],
 "metadata": {
  "kernelspec": {
   "display_name": ".venv",
   "language": "python",
   "name": "python3"
  },
  "language_info": {
   "codemirror_mode": {
    "name": "ipython",
    "version": 3
   },
   "file_extension": ".py",
   "mimetype": "text/x-python",
   "name": "python",
   "nbconvert_exporter": "python",
   "pygments_lexer": "ipython3",
   "version": "3.11.3"
  },
  "orig_nbformat": 4
 },
 "nbformat": 4,
 "nbformat_minor": 2
}
